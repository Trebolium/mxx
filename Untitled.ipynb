{
 "cells": [
  {
   "cell_type": "code",
   "execution_count": 1,
   "metadata": {},
   "outputs": [],
   "source": [
    "import os\n",
    "import h5py\n",
    "import numpy as np\n",
    "from scipy import signal\n",
    "from scipy.ndimage import gaussian_filter\n",
    "from PIL import Image\n",
    "import matplotlib.pyplot as plt\n",
    "import numpy as np\n",
    "import random\n",
    "import pdb"
   ]
  },
  {
   "cell_type": "code",
   "execution_count": 2,
   "metadata": {},
   "outputs": [],
   "source": [
    "hdf5_path = 'APP/MXX-git2-/SchulterReproduction/hdf5data/withaugments.hdf5'\n",
    "if not os.path.isfile:\n",
    "    print('ERROR: HDF5-file not found! Run create_hdf5_dataset.py first!')\n",
    "hdf5_file = h5py.File(hdf5_path, \"r\")\n",
    "\n",
    "feature = hdf5_file['val_features'][0, ...]\n",
    "sample_excerpt = feature[:,1400:1515]\n"
   ]
  },
  {
   "cell_type": "code",
   "execution_count": 3,
   "metadata": {},
   "outputs": [],
   "source": [
    "# with this specific example, the numbers must be scales and normalised to these numbers which were found to be its max and min values\n",
    "# sample_excerpt[:,:]=sample_excerpt[:,:]+0.2746671993100236\n",
    "# sample_excerpt[:,:]=sample_excerpt[:,:]/6.762975251946389"
   ]
  },
  {
   "cell_type": "code",
   "execution_count": 4,
   "metadata": {},
   "outputs": [],
   "source": [
    "\n",
    "### from here you can add to the core generator\n",
    "window_size=160\n",
    "highest_gauss=window_size/2\n",
    "random_std=random.randint(5,7)\n",
    "random_mel=random.randint(0,80)\n",
    "window = signal.gaussian(window_size, std=random_std)\n",
    "# The reduction of an equivalent to 10db to the numpy array was calculated by comparing pixels before and after their value underwent normalisation\n",
    "# so pixels that were 10db apart - their distance was measured in the normalised version and this value was used for filtration\n",
    "# window=window*-1\n",
    "db_multiplier=1\n",
    "# loudness filter\n",
    "# plt.plot(window)\n",
    "# plt.show()\n"
   ]
  },
  {
   "cell_type": "code",
   "execution_count": 5,
   "metadata": {},
   "outputs": [],
   "source": [
    "# must map this to new scale\n",
    "for row_index, row in enumerate(sample_excerpt):\n",
    "\t# print(row)\n",
    "\toffset=random_mel-row_index\n",
    "\tfor pixel_index, pixel in enumerate(row):\n",
    "\t\t# print(pixel)\n",
    "\t\tif pixel<window[int(highest_gauss+offset)]*db_multiplier:\n",
    "\t\t\t# pdb.set_trace()\n",
    "\t\t\tsample_excerpt[row_index,pixel_index]=0\n",
    "\t\telse:\n",
    "\t\t\tsample_excerpt[row_index,pixel_index]-=window[int(highest_gauss+offset)]*db_multiplier\n",
    "\t# print(highest_gauss)\n",
    "\t# print(highest_gauss+offset)\n",
    "\t# print(offset)\n",
    "\t# print(window[highest_gauss+offset])\n",
    "\t# sample_excerpt[row_int,:]=sample_excerpt[row_int,:]-window[int(highest_gauss+offset)]"
   ]
  },
  {
   "cell_type": "code",
   "execution_count": 7,
   "metadata": {},
   "outputs": [
    {
     "name": "stdout",
     "output_type": "stream",
     "text": [
      "20\n"
     ]
    }
   ],
   "source": [
    "print(random_mel)\n",
    "# convert to image\n",
    "excerpt_converted = (sample_excerpt * 255 / np.max(sample_excerpt)).astype('uint8')\n",
    "excerpt_array = Image.fromarray(excerpt_converted)\n",
    "# make image 3 times bigger\n",
    "# plt.imshow(excerpt_array)\n",
    "# plt.show()"
   ]
  },
  {
   "cell_type": "code",
   "execution_count": null,
   "metadata": {},
   "outputs": [],
   "source": [
    "# must map this to new scale\n",
    "for row_index, row in enumerate(sample_excerpt):\n",
    "\t# print(row)\n",
    "\toffset=random_mel-row_index\n",
    "\tfor column_index, pixel in enumerate(row):\n",
    "        sample_excerpt[row_index,column_index]-\n",
    "        \n",
    "        "
   ]
  }
 ],
 "metadata": {
  "kernelspec": {
   "display_name": "Python 3",
   "language": "python",
   "name": "python3"
  },
  "language_info": {
   "codemirror_mode": {
    "name": "ipython",
    "version": 3
   },
   "file_extension": ".py",
   "mimetype": "text/x-python",
   "name": "python",
   "nbconvert_exporter": "python",
   "pygments_lexer": "ipython3",
   "version": "3.7.3"
  }
 },
 "nbformat": 4,
 "nbformat_minor": 2
}
