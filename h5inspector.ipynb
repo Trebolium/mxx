{
 "cells": [
  {
   "cell_type": "code",
   "execution_count": 1,
   "metadata": {},
   "outputs": [],
   "source": [
    "import librosa\n",
    "import yaml\n",
    "import numpy as np\n",
    "import h5py\n",
    "import random\n",
    "import os\n",
    "import matplotlib.pyplot as plt\n",
    "import math"
   ]
  },
  {
   "cell_type": "code",
   "execution_count": 2,
   "metadata": {},
   "outputs": [],
   "source": [
    "data=h5py.File('hdf5data/withaugments.hdf5','r')\n",
    "\n",
    "tlab='train_labels'\n",
    "tlen='train_lengths'\n",
    "tfea='train_features'\n",
    "vlab='val_labels'\n",
    "vlen='val_lengths'\n",
    "vfea='val_features'"
   ]
  },
  {
   "cell_type": "code",
   "execution_count": 3,
   "metadata": {},
   "outputs": [
    {
     "name": "stdout",
     "output_type": "stream",
     "text": [
      "[[-0.47075727 -0.47075727 -0.47075727 ...  2.70806962  2.60433005\n",
      "   1.88934265]\n",
      " [-0.47075727 -0.47075727 -0.47075727 ...  1.7393355   2.2735876\n",
      "   2.96294421]\n",
      " [-0.47075727 -0.47075727 -0.47075727 ...  1.86859863  2.62540084\n",
      "   3.18525549]\n",
      " ...\n",
      " [-0.47075727 -0.47075727 -0.47075727 ... -0.47075727 -0.47075727\n",
      "  -0.47075727]\n",
      " [-0.47075727 -0.47075727 -0.47075727 ... -0.47075727 -0.47075727\n",
      "  -0.47075727]\n",
      " [-0.47075727 -0.47075727 -0.47075727 ... -0.47075727 -0.47075727\n",
      "  -0.47075727]]\n"
     ]
    }
   ],
   "source": [
    "print(data[tfea][266])"
   ]
  },
  {
   "cell_type": "code",
   "execution_count": 4,
   "metadata": {},
   "outputs": [
    {
     "data": {
      "text/plain": [
       "(80, 40951)"
      ]
     },
     "execution_count": 4,
     "metadata": {},
     "output_type": "execute_result"
    }
   ],
   "source": [
    "(data[tfea][266]).shape"
   ]
  },
  {
   "cell_type": "code",
   "execution_count": null,
   "metadata": {},
   "outputs": [],
   "source": []
  }
 ],
 "metadata": {
  "kernelspec": {
   "display_name": "Python 3",
   "language": "python",
   "name": "python3"
  },
  "language_info": {
   "codemirror_mode": {
    "name": "ipython",
    "version": 3
   },
   "file_extension": ".py",
   "mimetype": "text/x-python",
   "name": "python",
   "nbconvert_exporter": "python",
   "pygments_lexer": "ipython3",
   "version": "3.6.8"
  }
 },
 "nbformat": 4,
 "nbformat_minor": 2
}
