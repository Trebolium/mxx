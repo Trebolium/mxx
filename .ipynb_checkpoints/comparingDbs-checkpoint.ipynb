{
 "cells": [
  {
   "cell_type": "code",
   "execution_count": 12,
   "metadata": {},
   "outputs": [],
   "source": [
    "import librosa\n",
    "import yaml\n",
    "import numpy as np\n",
    "import h5py\n",
    "import random\n",
    "import os\n",
    "import matplotlib.pyplot as plt\n",
    "import math\n",
    "import pdb"
   ]
  },
  {
   "cell_type": "code",
   "execution_count": 13,
   "metadata": {},
   "outputs": [
    {
     "name": "stdout",
     "output_type": "stream",
     "text": [
      "Track samplerate:  22050\n",
      "Track sample size:  7210208\n"
     ]
    }
   ],
   "source": [
    "params=yaml.load(open('params.yaml'),Loader=yaml.FullLoader)\n",
    "\n",
    "audio_path='/Volumes/Samsung_T5/APP/MXX-git2-/SchulterReproduction/jamendo/audioTrain/01 - 01 Les Jardins Japonais.ogg'\n",
    "audio, track_sr = librosa.load(audio_path, mono=True, sr=params['fs'])\n",
    "print('Track samplerate: ', track_sr)\n",
    "print('Track sample size: ', len(audio))"
   ]
  },
  {
   "cell_type": "code",
   "execution_count": 14,
   "metadata": {},
   "outputs": [],
   "source": [
    "# normalize\n",
    "audio /= max(abs(audio))\n",
    "max_samples = params['max_song_length'] * params['fs']  # desired max length in samples\n",
    "audio_melframe_nums = math.trunc(len(audio)/params['hop_length'])"
   ]
  },
  {
   "cell_type": "code",
   "execution_count": 15,
   "metadata": {},
   "outputs": [],
   "source": [
    "\n",
    "# either pad or cut to desired length\n",
    "if audio.shape[0] < max_samples:\n",
    "    audio = np.pad(audio, (0, max_samples - audio.shape[0]), mode='constant')  # pad with zeros\n",
    "else:\n",
    "    audio = audio[:max_samples]\n",
    "mel = librosa.feature.melspectrogram(audio,\n",
    "                                         sr=params['fs'],\n",
    "                                         n_mels=params['n_mel'],\n",
    "                                         hop_length=params['hop_length'],\n",
    "                                         n_fft=params['n_fft'], fmin=params['fmin'],fmax=params['fmax'])"
   ]
  },
  {
   "cell_type": "code",
   "execution_count": 16,
   "metadata": {},
   "outputs": [
    {
     "name": "stdout",
     "output_type": "stream",
     "text": [
      "(80, 40951)\n"
     ]
    }
   ],
   "source": [
    "mel[mel < params['min_clip']] = params['min_clip']\n",
    "mel_db = librosa.amplitude_to_db(mel)\n",
    "mel_db_mean = np.mean(mel_db)\n",
    "mel_db_std = np.std(mel_db)\n",
    "mel_db_meaned = mel_db-mel_db_mean\n",
    "mel_db_meaned_unitvar=mel_db_meaned/mel_db_std\n",
    "print(mel.shape)"
   ]
  },
  {
   "cell_type": "code",
   "execution_count": 17,
   "metadata": {},
   "outputs": [
    {
     "ename": "IndexError",
     "evalue": "index 40951 is out of bounds for axis 1 with size 40951",
     "output_type": "error",
     "traceback": [
      "\u001b[0;31m---------------------------------------------------------------------------\u001b[0m",
      "\u001b[0;31mIndexError\u001b[0m                                Traceback (most recent call last)",
      "\u001b[0;32m<ipython-input-17-6ff7a930ef9b>\u001b[0m in \u001b[0;36m<module>\u001b[0;34m\u001b[0m\n\u001b[1;32m      5\u001b[0m     \u001b[0;32mfor\u001b[0m \u001b[0mcolumn_index\u001b[0m\u001b[0;34m,\u001b[0m \u001b[0mpixel\u001b[0m \u001b[0;32min\u001b[0m \u001b[0menumerate\u001b[0m\u001b[0;34m(\u001b[0m\u001b[0mrow\u001b[0m\u001b[0;34m)\u001b[0m\u001b[0;34m:\u001b[0m\u001b[0;34m\u001b[0m\u001b[0;34m\u001b[0m\u001b[0m\n\u001b[1;32m      6\u001b[0m         \u001b[0ma\u001b[0m\u001b[0;34m=\u001b[0m\u001b[0mmel_db\u001b[0m\u001b[0;34m[\u001b[0m\u001b[0mrow_index\u001b[0m\u001b[0;34m,\u001b[0m\u001b[0mcolumn_index\u001b[0m\u001b[0;34m]\u001b[0m\u001b[0;34m\u001b[0m\u001b[0;34m\u001b[0m\u001b[0m\n\u001b[0;32m----> 7\u001b[0;31m         \u001b[0mb\u001b[0m\u001b[0;34m=\u001b[0m\u001b[0mmel_db\u001b[0m\u001b[0;34m[\u001b[0m\u001b[0mrow_index\u001b[0m\u001b[0;34m+\u001b[0m\u001b[0;36m10\u001b[0m\u001b[0;34m,\u001b[0m\u001b[0mcolumn_index\u001b[0m\u001b[0;34m+\u001b[0m\u001b[0;36m10\u001b[0m\u001b[0;34m]\u001b[0m\u001b[0;34m\u001b[0m\u001b[0;34m\u001b[0m\u001b[0m\n\u001b[0m\u001b[1;32m      8\u001b[0m         \u001b[0;32mif\u001b[0m \u001b[0mabs\u001b[0m\u001b[0;34m(\u001b[0m\u001b[0ma\u001b[0m\u001b[0;34m-\u001b[0m\u001b[0mb\u001b[0m\u001b[0;34m)\u001b[0m\u001b[0;34m<\u001b[0m\u001b[0;36m11\u001b[0m \u001b[0;32mand\u001b[0m \u001b[0mabs\u001b[0m\u001b[0;34m(\u001b[0m\u001b[0ma\u001b[0m\u001b[0;34m-\u001b[0m\u001b[0mb\u001b[0m\u001b[0;34m)\u001b[0m\u001b[0;34m>\u001b[0m\u001b[0;36m9\u001b[0m\u001b[0;34m:\u001b[0m\u001b[0;34m\u001b[0m\u001b[0;34m\u001b[0m\u001b[0m\n\u001b[1;32m      9\u001b[0m             \u001b[0mc\u001b[0m\u001b[0;34m=\u001b[0m\u001b[0mmel_db_meaned_unitvar\u001b[0m\u001b[0;34m[\u001b[0m\u001b[0mrow_index\u001b[0m\u001b[0;34m,\u001b[0m\u001b[0mcolumn_index\u001b[0m\u001b[0;34m]\u001b[0m\u001b[0;34m\u001b[0m\u001b[0;34m\u001b[0m\u001b[0m\n",
      "\u001b[0;31mIndexError\u001b[0m: index 40951 is out of bounds for axis 1 with size 40951"
     ]
    }
   ],
   "source": [
    "# show values of pixels that are roughly 10db apart\n",
    "db_measurements=[]\n",
    "\n",
    "for row_index, row in enumerate(mel_db):\n",
    "    for column_index, pixel in enumerate(row):\n",
    "        if column_index<mel_db.shape[1]:\n",
    "            a=mel_db[row_index,column_index]\n",
    "            b=mel_db[row_index+10,column_index+10]\n",
    "            if abs(a-b)<11 and abs(a-b)>9:\n",
    "                c=mel_db_meaned_unitvar[row_index,column_index]\n",
    "                d=mel_db_meaned_unitvar[row_index+10,column_index+10]\n",
    "                line = 'db distance: ' +str(abs(a-b)) +'norm distance: ' +str(abs(c-d))\n",
    "                db_measurements.append(line)\n"
   ]
  },
  {
   "cell_type": "code",
   "execution_count": null,
   "metadata": {},
   "outputs": [],
   "source": []
  }
 ],
 "metadata": {
  "kernelspec": {
   "display_name": "Python 3",
   "language": "python",
   "name": "python3"
  },
  "language_info": {
   "codemirror_mode": {
    "name": "ipython",
    "version": 3
   },
   "file_extension": ".py",
   "mimetype": "text/x-python",
   "name": "python",
   "nbconvert_exporter": "python",
   "pygments_lexer": "ipython3",
   "version": "3.6.8"
  }
 },
 "nbformat": 4,
 "nbformat_minor": 2
}
